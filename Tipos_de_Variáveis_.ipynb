{
  "nbformat": 4,
  "nbformat_minor": 0,
  "metadata": {
    "colab": {
      "name": "Tipos de Variáveis.",
      "provenance": [],
      "authorship_tag": "ABX9TyOT+zHGusjuvnEsecjH04gM",
      "include_colab_link": true
    },
    "kernelspec": {
      "name": "python3",
      "display_name": "Python 3"
    },
    "language_info": {
      "name": "python"
    }
  },
  "cells": [
    {
      "cell_type": "markdown",
      "metadata": {
        "id": "view-in-github",
        "colab_type": "text"
      },
      "source": [
        "<a href=\"https://colab.research.google.com/github/rdnrubens97/Machine_Learning/blob/main/Tipos_de_Vari%C3%A1veis_.ipynb\" target=\"_parent\"><img src=\"https://colab.research.google.com/assets/colab-badge.svg\" alt=\"Open In Colab\"/></a>"
      ]
    },
    {
      "cell_type": "markdown",
      "source": [
        "Tipos de variáveis:\n",
        "-numéricas(contínuas ou discretas);\n",
        "  *numérica contínua: números reais. ex: temperatura, peso, altura, salário.\n",
        "  *numérica discreta: conjunto de valores finitos (inteiros), contagem de algo.\n",
        "\n",
        "-categóricas(nominal ou ordinal);\n",
        "  *categórica nominal: dados não mensuráveis, sem ordenação. ex:cor dos olhos.\n",
        "  *categórica ordinal: categorizado sob uma ordenação. ex: tamanho p, m, g.\n"
      ],
      "metadata": {
        "id": "ea54ARoLXaRu"
      }
    }
  ]
}