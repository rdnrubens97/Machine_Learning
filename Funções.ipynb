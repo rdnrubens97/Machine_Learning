{
  "nbformat": 4,
  "nbformat_minor": 0,
  "metadata": {
    "colab": {
      "name": "Funções",
      "provenance": [],
      "authorship_tag": "ABX9TyMIQblKROTEa6Pko93Kd39O",
      "include_colab_link": true
    },
    "kernelspec": {
      "name": "python3",
      "display_name": "Python 3"
    },
    "language_info": {
      "name": "python"
    }
  },
  "cells": [
    {
      "cell_type": "markdown",
      "metadata": {
        "id": "view-in-github",
        "colab_type": "text"
      },
      "source": [
        "<a href=\"https://colab.research.google.com/github/rdnrubens97/Machine_Learning/blob/main/Fun%C3%A7%C3%B5es.ipynb\" target=\"_parent\"><img src=\"https://colab.research.google.com/assets/colab-badge.svg\" alt=\"Open In Colab\"/></a>"
      ]
    },
    {
      "cell_type": "code",
      "execution_count": null,
      "metadata": {
        "id": "koFxSHQokXgj"
      },
      "outputs": [],
      "source": [
        "# FUNÇÕES:\n"
      ]
    },
    {
      "cell_type": "code",
      "source": [
        "# SEM PARÂMETRO E SEM RETONRO:\n",
        "def mensagem():\n",
        "  print(\"Esta mensagem é a definição da função, podendo ser sempre 'chamada'.\")\n",
        "def time_do_rubens():\n",
        "  print(\"São Paulo Futebol Clube\")"
      ],
      "metadata": {
        "id": "eF5puUHjknAR"
      },
      "execution_count": null,
      "outputs": []
    },
    {
      "cell_type": "code",
      "source": [
        "mensagem()\n",
        "time_do_rubens()\n"
      ],
      "metadata": {
        "colab": {
          "base_uri": "https://localhost:8080/"
        },
        "id": "xNB-SfH2lKCy",
        "outputId": "ef36571b-f5a9-4140-fc3a-12ce22435fd2"
      },
      "execution_count": null,
      "outputs": [
        {
          "output_type": "stream",
          "name": "stdout",
          "text": [
            "Esta mensagem é a definição da função, podendo ser sempre 'chamada'.\n",
            "São Paulo Futebol Clube\n"
          ]
        }
      ]
    },
    {
      "cell_type": "code",
      "source": [
        "# COM PASSAGEM DE PARÂMETRO:\n",
        "def mensagem_(texto):\n",
        "  print(texto)\n",
        "def soma(a, b):\n",
        "  print(a + b)  "
      ],
      "metadata": {
        "id": "f0G2uwnSltH5"
      },
      "execution_count": null,
      "outputs": []
    },
    {
      "cell_type": "code",
      "source": [
        "mensagem_(\"olá, Rubens\")\n",
        "mensagem_(\"Como vai?\")\n",
        "soma(1, 2)\n",
        "soma(3, 3)"
      ],
      "metadata": {
        "colab": {
          "base_uri": "https://localhost:8080/"
        },
        "id": "m6N1AOZ-l9A5",
        "outputId": "79dfbdc2-1a94-479a-92a2-da68a0119c69"
      },
      "execution_count": null,
      "outputs": [
        {
          "output_type": "stream",
          "name": "stdout",
          "text": [
            "olá, Rubens\n",
            "Como vai?\n",
            "3\n",
            "6\n"
          ]
        }
      ]
    },
    {
      "cell_type": "code",
      "source": [
        "# COM PASSAGEM DE PARÂMETRO E RETORNO:\n",
        "def somar(a, b):\n",
        "  return( a + b)"
      ],
      "metadata": {
        "id": "QTzknuG8m4Q3"
      },
      "execution_count": null,
      "outputs": []
    },
    {
      "cell_type": "code",
      "source": [
        "somar(2 , 5)"
      ],
      "metadata": {
        "colab": {
          "base_uri": "https://localhost:8080/"
        },
        "id": "Zp5LCym2nXDv",
        "outputId": "0083f292-9c12-493f-fb50-545aa06d117f"
      },
      "execution_count": null,
      "outputs": [
        {
          "output_type": "execute_result",
          "data": {
            "text/plain": [
              "7"
            ]
          },
          "metadata": {},
          "execution_count": 27
        }
      ]
    },
    {
      "cell_type": "code",
      "source": [
        "r = somar(1 , 4) + 1\n",
        "print(r)"
      ],
      "metadata": {
        "colab": {
          "base_uri": "https://localhost:8080/"
        },
        "id": "Aq9_1vrKncgK",
        "outputId": "e85e92d6-262f-49d0-880f-e594724bc07c"
      },
      "execution_count": null,
      "outputs": [
        {
          "output_type": "stream",
          "name": "stdout",
          "text": [
            "6\n"
          ]
        }
      ]
    },
    {
      "cell_type": "code",
      "source": [
        "def energia_gravitacional(m, h, g=10):\n",
        "  \n",
        "  '''\n",
        "  Calcula a energia potencial gravitacional\n",
        "  Argumentos:\n",
        "  m: massa, entrada como uma variável float\n",
        "  h: altura, entrada como uma variável float\n",
        "\n",
        "  Argumento opcional:\n",
        "  g: aceleração gravitacional, com valor default de 10\n",
        "  '''\n",
        "\n",
        "  return(m * h * g)"
      ],
      "metadata": {
        "id": "GEfNdUSrn0sK"
      },
      "execution_count": null,
      "outputs": []
    },
    {
      "cell_type": "code",
      "source": [
        "energia_gravitacional(30,12,9.8)"
      ],
      "metadata": {
        "colab": {
          "base_uri": "https://localhost:8080/"
        },
        "id": "w1lGlZk2oCwA",
        "outputId": "bcdcb7d4-4e46-4823-cff6-8c7dbcd7ac89"
      },
      "execution_count": null,
      "outputs": [
        {
          "output_type": "execute_result",
          "data": {
            "text/plain": [
              "3528.0000000000005"
            ]
          },
          "metadata": {},
          "execution_count": 39
        }
      ]
    },
    {
      "cell_type": "code",
      "source": [
        "help(energia_gravitacional)"
      ],
      "metadata": {
        "colab": {
          "base_uri": "https://localhost:8080/"
        },
        "id": "NZYvCIk9oxPB",
        "outputId": "0a28f139-e428-46c7-fcc4-ba91b1b2736f"
      },
      "execution_count": null,
      "outputs": [
        {
          "output_type": "stream",
          "name": "stdout",
          "text": [
            "Help on function energia_gravitacional in module __main__:\n",
            "\n",
            "energia_gravitacional(m, h, g=10)\n",
            "    Calcula a energia potencial gravitacional\n",
            "    Argumentos:\n",
            "    m: massa, entrada como uma variável float\n",
            "    h: altura, entrada como uma variável float\n",
            "    \n",
            "    Argumento opcional:\n",
            "    g: aceleração gravitacional, com valor default de 10\n",
            "\n"
          ]
        }
      ]
    }
  ]
}