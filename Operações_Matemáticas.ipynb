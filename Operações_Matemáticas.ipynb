{
  "nbformat": 4,
  "nbformat_minor": 0,
  "metadata": {
    "colab": {
      "name": "Operações Matemáticas.ipynb",
      "provenance": [],
      "collapsed_sections": [],
      "include_colab_link": true
    },
    "kernelspec": {
      "name": "python3",
      "display_name": "Python 3"
    }
  },
  "cells": [
    {
      "cell_type": "markdown",
      "metadata": {
        "id": "view-in-github",
        "colab_type": "text"
      },
      "source": [
        "<a href=\"https://colab.research.google.com/github/rdnrubens97/Machine_Learning/blob/main/Opera%C3%A7%C3%B5es_Matem%C3%A1ticas.ipynb\" target=\"_parent\"><img src=\"https://colab.research.google.com/assets/colab-badge.svg\" alt=\"Open In Colab\"/></a>"
      ]
    },
    {
      "cell_type": "code",
      "source": [
        "'OPERAÇÕES:'\n",
        "a = 10\n",
        "b = 3"
      ],
      "metadata": {
        "id": "xfdHdbQ5c2OT"
      },
      "execution_count": 19,
      "outputs": []
    },
    {
      "cell_type": "code",
      "source": [
        "import math"
      ],
      "metadata": {
        "id": "aYjKmkrPel-o"
      },
      "execution_count": 20,
      "outputs": []
    },
    {
      "cell_type": "code",
      "source": [
        "soma = print(a+b)\n",
        "subtração = print(a-b)\n",
        "multiplicação = print(a*b)\n",
        "divisão = print(a/b)\n",
        "resto_divisão = print(a%b)\n",
        "exponencial = print(8**2)\n",
        "raiz = print(math.sqrt(64))\n",
        "raiz = print(64**(1/2))"
      ],
      "metadata": {
        "colab": {
          "base_uri": "https://localhost:8080/"
        },
        "id": "HSmDbl5idH3h",
        "outputId": "c98f24c0-8de5-402b-a0e7-629a3ed343b9"
      },
      "execution_count": 28,
      "outputs": [
        {
          "output_type": "stream",
          "name": "stdout",
          "text": [
            "13\n",
            "7\n",
            "30\n",
            "3.3333333333333335\n",
            "1\n",
            "64\n",
            "8.0\n",
            "8.0\n"
          ]
        }
      ]
    },
    {
      "cell_type": "code",
      "source": [
        "'ARREDONDAMENTO'\n",
        "casos_doença = 134\n",
        "numero_haitantes = 34432\n",
        "casos_por_habitantes = casos_doença/numero_haitantes"
      ],
      "metadata": {
        "id": "OBkODEcofX_Z"
      },
      "execution_count": 26,
      "outputs": []
    },
    {
      "cell_type": "code",
      "source": [
        "print(casos_por_habitantes)\n",
        "print(round(casos_por_habitantes, 4))\n",
        "print(round(casos_por_habitantes, 6))\n",
        "print(round(casos_por_habitantes, 8))"
      ],
      "metadata": {
        "colab": {
          "base_uri": "https://localhost:8080/"
        },
        "id": "mb_SzjyjftcQ",
        "outputId": "64bfc494-5fbe-402c-d4ec-1166fc603daf"
      },
      "execution_count": 34,
      "outputs": [
        {
          "output_type": "stream",
          "name": "stdout",
          "text": [
            "0.003891728624535316\n",
            "0.0039\n",
            "0.003892\n",
            "0.00389173\n"
          ]
        }
      ]
    }
  ]
}