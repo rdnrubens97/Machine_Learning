{
  "nbformat": 4,
  "nbformat_minor": 0,
  "metadata": {
    "colab": {
      "name": "Operadores lógicos e relacionais.ipynb",
      "provenance": [],
      "collapsed_sections": [],
      "include_colab_link": true
    },
    "kernelspec": {
      "name": "python3",
      "display_name": "Python 3"
    }
  },
  "cells": [
    {
      "cell_type": "markdown",
      "metadata": {
        "id": "view-in-github",
        "colab_type": "text"
      },
      "source": [
        "<a href=\"https://colab.research.google.com/github/rdnrubens97/Machine_Learning/blob/main/Operadores_l%C3%B3gicos_e_relacionais.ipynb\" target=\"_parent\"><img src=\"https://colab.research.google.com/assets/colab-badge.svg\" alt=\"Open In Colab\"/></a>"
      ]
    },
    {
      "cell_type": "code",
      "source": [
        "# OPERADORES LÓGICOS:\n",
        "a = True\n",
        "b = False"
      ],
      "metadata": {
        "id": "bwSAXaHVujzx"
      },
      "execution_count": 1,
      "outputs": []
    },
    {
      "cell_type": "code",
      "source": [
        "print(a, b)\n",
        "print(a and b)\n",
        "print(a & b)\n",
        "print(\"A e B é\", a & b)\n",
        "print(a or b)\n",
        "print(a | b)\n",
        "print(\"'A' e 'B' é\", a | b)\n",
        "print(not a)\n",
        "print(not b)\n"
      ],
      "metadata": {
        "id": "7_3IIsvtuxTL",
        "outputId": "4f4a9c48-b4cc-43ea-f19f-76989bff7cbd",
        "colab": {
          "base_uri": "https://localhost:8080/"
        }
      },
      "execution_count": 11,
      "outputs": [
        {
          "output_type": "stream",
          "name": "stdout",
          "text": [
            "True False\n",
            "False\n",
            "False\n",
            "A e B é False\n",
            "True\n",
            "True\n",
            "'A' e 'B' é True\n",
            "False\n",
            "True\n"
          ]
        }
      ]
    },
    {
      "cell_type": "code",
      "source": [
        "# OPERADORES RELACIONAIS:\n",
        "print(5 > 3)\n",
        "print(5 <= 2)\n",
        "print(3 == 3)\n",
        "print(3 == 2)\n",
        "print(3!= 2)"
      ],
      "metadata": {
        "id": "Cqygr2vIx9qx",
        "outputId": "7f4f392a-fe1f-455e-ef3b-1fd1923cd1dc",
        "colab": {
          "base_uri": "https://localhost:8080/"
        }
      },
      "execution_count": 15,
      "outputs": [
        {
          "output_type": "stream",
          "name": "stdout",
          "text": [
            "True\n",
            "False\n",
            "True\n",
            "False\n",
            "True\n"
          ]
        }
      ]
    }
  ]
}