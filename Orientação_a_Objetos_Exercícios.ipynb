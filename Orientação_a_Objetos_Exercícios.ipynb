{
  "nbformat": 4,
  "nbformat_minor": 0,
  "metadata": {
    "colab": {
      "name": "Orientação a Objetos - Exercícios",
      "provenance": [],
      "authorship_tag": "ABX9TyPHargQ7r6hJsJLowGV3mJI",
      "include_colab_link": true
    },
    "kernelspec": {
      "name": "python3",
      "display_name": "Python 3"
    },
    "language_info": {
      "name": "python"
    }
  },
  "cells": [
    {
      "cell_type": "markdown",
      "metadata": {
        "id": "view-in-github",
        "colab_type": "text"
      },
      "source": [
        "<a href=\"https://colab.research.google.com/github/rdnrubens97/Machine_Learning/blob/main/Orienta%C3%A7%C3%A3o_a_Objetos_Exerc%C3%ADcios.ipynb\" target=\"_parent\"><img src=\"https://colab.research.google.com/assets/colab-badge.svg\" alt=\"Open In Colab\"/></a>"
      ]
    },
    {
      "cell_type": "markdown",
      "source": [
        "\n",
        "Olá,\n",
        "Crie uma classe chamada aluno com os seguintes atributos:\n",
        "- Nome\n",
        "- Nota 1\n",
        "- Nota 2\n",
        "- Crie um construtor para a classe (__init__)\n",
        "\n",
        "\n",
        "\n",
        "Crie as seguintes funções (métodos):\n",
        "- Calcula média, retornando a média aritmética entre as notas\n",
        "- Mostra dados, que somente imprime o valor de todos os atributos\n",
        "- Resultado, que verifica se o aluno está aprovado ou reprovado (se a média for maior ou igual a 6.0, o aluno está aprovado)\n",
        "\n",
        "\n",
        "\n",
        "Crie dois objetos (aluno1 e aluno2) e teste as funções"
      ],
      "metadata": {
        "id": "21ga7ENXbzGm"
      }
    },
    {
      "cell_type": "code",
      "source": [
        "class aluno:\n",
        "  def __init__(self, nome, nota1, nota2):\n",
        "    self.nome = nome\n",
        "    self.nota1 = nota1\n",
        "    self.nota2 = nota2\n",
        "\n",
        "  def media(self):\n",
        "    self.media = (self.nota1 + self.nota2) / 2\n",
        "    return self.media \n",
        "\n",
        "  def mostrar(self):\n",
        "    print(\"Nome:\", self.nome)\n",
        "    print(\"Nota 1: \", self.nota1)\n",
        "    print(\"Nota 2: \", self.nota2)\n",
        "    print(\"Média: \", self.media)\n",
        "\n",
        "  def situação(self):\n",
        "    if self.media >= 6:\n",
        "      print(f\"{self.nome} está aprovado\")\n",
        "    else:\n",
        "       print(f\"{self.nome} está reprovado\")\n",
        "\n",
        "  \n",
        "\n",
        "  \n"
      ],
      "metadata": {
        "id": "BgJ9nG5Sb0xP"
      },
      "execution_count": 66,
      "outputs": []
    },
    {
      "cell_type": "code",
      "source": [
        "a1 = aluno(\"Rubens\", 8, 9.5)"
      ],
      "metadata": {
        "id": "bF7hS5UVeA5F"
      },
      "execution_count": 67,
      "outputs": []
    },
    {
      "cell_type": "code",
      "source": [
        "print(a1.nome, a1.nota1, a1.nota2)\n",
        "\n",
        "\n"
      ],
      "metadata": {
        "colab": {
          "base_uri": "https://localhost:8080/"
        },
        "id": "tyK_G7eZeTtf",
        "outputId": "dd8c1be3-e66a-475a-88dc-9d770581c6e6"
      },
      "execution_count": 68,
      "outputs": [
        {
          "output_type": "stream",
          "name": "stdout",
          "text": [
            "Rubens 8 9.5\n"
          ]
        }
      ]
    },
    {
      "cell_type": "code",
      "source": [
        "a1.media()"
      ],
      "metadata": {
        "colab": {
          "base_uri": "https://localhost:8080/"
        },
        "id": "_IHwnAUChKpp",
        "outputId": "9311473a-2202-46b7-f5a6-1bdfec4e82a6"
      },
      "execution_count": 69,
      "outputs": [
        {
          "output_type": "execute_result",
          "data": {
            "text/plain": [
              "8.75"
            ]
          },
          "metadata": {},
          "execution_count": 69
        }
      ]
    },
    {
      "cell_type": "code",
      "source": [
        "a1.mostrar()"
      ],
      "metadata": {
        "colab": {
          "base_uri": "https://localhost:8080/"
        },
        "id": "X2bfjkTde4e1",
        "outputId": "a834d852-ca0a-431f-f007-7e4869481c83"
      },
      "execution_count": 70,
      "outputs": [
        {
          "output_type": "stream",
          "name": "stdout",
          "text": [
            "Nome: Rubens\n",
            "Nota 1:  8\n",
            "Nota 2:  9.5\n",
            "Média:  8.75\n"
          ]
        }
      ]
    },
    {
      "cell_type": "code",
      "source": [
        "a1.situação()"
      ],
      "metadata": {
        "colab": {
          "base_uri": "https://localhost:8080/"
        },
        "id": "YPHQHGrjhN_T",
        "outputId": "793afc78-3cb4-45e8-bd32-a4416b563862"
      },
      "execution_count": 71,
      "outputs": [
        {
          "output_type": "stream",
          "name": "stdout",
          "text": [
            "Rubens está aprovado\n"
          ]
        }
      ]
    },
    {
      "cell_type": "code",
      "source": [
        "a2 = aluno(\"Fubá\", 10, 7)"
      ],
      "metadata": {
        "id": "dfd3g9tHhlop"
      },
      "execution_count": 72,
      "outputs": []
    },
    {
      "cell_type": "code",
      "source": [
        "a2.media()"
      ],
      "metadata": {
        "id": "7VNFJK_Eh6z8",
        "outputId": "afeeb67f-2a08-45d1-9213-035fa3ee0a82",
        "colab": {
          "base_uri": "https://localhost:8080/"
        }
      },
      "execution_count": 74,
      "outputs": [
        {
          "output_type": "execute_result",
          "data": {
            "text/plain": [
              "8.5"
            ]
          },
          "metadata": {},
          "execution_count": 74
        }
      ]
    },
    {
      "cell_type": "code",
      "source": [
        "a2.mostrar()"
      ],
      "metadata": {
        "colab": {
          "base_uri": "https://localhost:8080/"
        },
        "id": "YHFAelu8hq61",
        "outputId": "83bb6750-4ca7-4dc2-95db-50d570972fdd"
      },
      "execution_count": 75,
      "outputs": [
        {
          "output_type": "stream",
          "name": "stdout",
          "text": [
            "Nome: Fubá\n",
            "Nota 1:  10\n",
            "Nota 2:  7\n",
            "Média:  8.5\n"
          ]
        }
      ]
    }
  ]
}