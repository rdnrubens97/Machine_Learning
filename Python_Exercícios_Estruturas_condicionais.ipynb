{
  "nbformat": 4,
  "nbformat_minor": 0,
  "metadata": {
    "colab": {
      "name": "Python Exercícios Estruturas condicionais.ipynb",
      "provenance": [],
      "include_colab_link": true
    },
    "kernelspec": {
      "name": "python3",
      "display_name": "Python 3"
    }
  },
  "cells": [
    {
      "cell_type": "markdown",
      "metadata": {
        "id": "view-in-github",
        "colab_type": "text"
      },
      "source": [
        "<a href=\"https://colab.research.google.com/github/rdnrubens97/Machine_Learning/blob/main/Python_Exerc%C3%ADcios_Estruturas_condicionais.ipynb\" target=\"_parent\"><img src=\"https://colab.research.google.com/assets/colab-badge.svg\" alt=\"Open In Colab\"/></a>"
      ]
    },
    {
      "cell_type": "code",
      "source": [
        "# Leia a idade do usuário e classifique-o em:\n",
        "# - Criança – 0 a 12 anos\n",
        "# - Adolescente – 13 a 17 anos\n",
        "# - Adulto – acima de 18 anos\n",
        "# -Se o usuário digitar um número negativo, mostrar a mensagem que a idade é inválida"
      ],
      "metadata": {
        "id": "8UX92Rjs2H73"
      },
      "execution_count": null,
      "outputs": []
    },
    {
      "cell_type": "code",
      "source": [
        "idade = int(input(\"Qual é a sua idade?:\"))\n",
        "\n",
        "if idade < 0:\n",
        "  print(\"Idade Inválida\")\n",
        "elif idade <= 12:\n",
        "  print(\"Você é uma criança\")\n",
        "elif idade <= 17:\n",
        "  print(\"Você é um adolescente\")\n",
        "elif idade <= 59:\n",
        " print(\"Você é um adulto\")\n",
        "else:\n",
        "  print(\"Você é idoso\")\n",
        "\n",
        "\n",
        "    "
      ],
      "metadata": {
        "id": "MCCMhRk72WXo",
        "outputId": "4377518d-8412-4b75-8c47-5ce716098cd9",
        "colab": {
          "base_uri": "https://localhost:8080/"
        }
      },
      "execution_count": 30,
      "outputs": [
        {
          "output_type": "stream",
          "name": "stdout",
          "text": [
            "Qual é a sua idade?:88\n",
            "Você é idoso\n"
          ]
        }
      ]
    },
    {
      "cell_type": "code",
      "source": [
        "# Calcular a média de um aluno que cursou a disciplina de Programação I, a partir da leitura das notas M1, M2 e M3; passando por um \n",
        "# cálculo da média aritmética. Após a média calculada, devemos anunciar se o aluno foi aprovado, reprovado ou pegou exame\n",
        "# - Se a média estiver entre 0.0 e 4.0, o aluno está reprovado\n",
        "# - Se a média estiver entre 4.1 e 6.0, o aluno pegou exame\n",
        "# - Se a média for maior do que 6.0, o aluno está aprovado\n",
        "# - Se o aluno pegou exame, deve ser lida a nota do exame. Se a nota do exame for maior do que 6.0, está aprovado, senão; está reprovado"
      ],
      "metadata": {
        "id": "6qG_yGP_68CW"
      },
      "execution_count": null,
      "outputs": []
    },
    {
      "cell_type": "code",
      "source": [
        "m1 = float(input(\"M1 \"))\n",
        "m2 = float(input(\"M2 \"))\n",
        "m3 = float(input(\"M3 \"))\n",
        "media = (m1 + m2 + m3)/3\n",
        "\n",
        "\n",
        "if media >= 0 and media <=4:\n",
        "  print(\"Reprovado\")\n",
        "elif media > 4 and media <=6:\n",
        "  exame = float(input(\"Exame \"))\n",
        "  if exame >= 6:\n",
        "    print(\"Aprovado em Exame\")\n",
        "  if exame < 6:\n",
        "    print(\"Reprovado em Exame\")\n",
        "elif media > 6:\n",
        "  print(\"Aprovado6\")\n",
        "\n"
      ],
      "metadata": {
        "id": "6GTdPDN57F0S",
        "outputId": "b72334e2-0766-4c93-ae9c-36e69a531308",
        "colab": {
          "base_uri": "https://localhost:8080/"
        }
      },
      "execution_count": 56,
      "outputs": [
        {
          "output_type": "stream",
          "name": "stdout",
          "text": [
            "M1 6\n",
            "M2 6\n",
            "M3 6\n",
            "Exame 5\n",
            "Reprovado em Exame\n"
          ]
        }
      ]
    }
  ]
}