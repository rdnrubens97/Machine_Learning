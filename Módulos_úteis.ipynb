{
  "nbformat": 4,
  "nbformat_minor": 0,
  "metadata": {
    "colab": {
      "name": "Módulos úteis",
      "provenance": [],
      "authorship_tag": "ABX9TyOPyu1D/ycRg7JxwmNXok5b",
      "include_colab_link": true
    },
    "kernelspec": {
      "name": "python3",
      "display_name": "Python 3"
    },
    "language_info": {
      "name": "python"
    }
  },
  "cells": [
    {
      "cell_type": "markdown",
      "metadata": {
        "id": "view-in-github",
        "colab_type": "text"
      },
      "source": [
        "<a href=\"https://colab.research.google.com/github/rdnrubens97/Machine_Learning/blob/main/M%C3%B3dulos_%C3%BAteis.ipynb\" target=\"_parent\"><img src=\"https://colab.research.google.com/assets/colab-badge.svg\" alt=\"Open In Colab\"/></a>"
      ]
    },
    {
      "cell_type": "code",
      "execution_count": null,
      "metadata": {
        "id": "gJ-u_4fNd0kL"
      },
      "outputs": [],
      "source": [
        "#BIBLIOTECA MATH:\n",
        "https://docs.python.org/3/library/math.html"
      ]
    },
    {
      "cell_type": "code",
      "source": [
        "import math\n",
        "\n",
        "print(math.sqrt(9))\n",
        "print(math.sin(45))\n",
        "print(math.cos(45))\n",
        "print(math.log(1000, 10))\n",
        "print(math.log(32, 2))\n",
        "print(math.log(1000))\n",
        "#quando não passamos a base para o logarítimo, será utilizado o número de Euler.\n",
        "print(math.e)\n",
        "# portanto, o número de Euler é 2,71828\n",
        "print(math.pi)\n"
      ],
      "metadata": {
        "colab": {
          "base_uri": "https://localhost:8080/"
        },
        "id": "-urlLi1GeEK3",
        "outputId": "3a1b8d46-191d-432c-c9f8-0fded9e0c853"
      },
      "execution_count": 8,
      "outputs": [
        {
          "output_type": "stream",
          "name": "stdout",
          "text": [
            "3.0\n",
            "0.8509035245341184\n",
            "0.5253219888177297\n",
            "2.9999999999999996\n",
            "5.0\n",
            "6.907755278982137\n",
            "2.718281828459045\n",
            "3.141592653589793\n"
          ]
        }
      ]
    },
    {
      "cell_type": "code",
      "source": [
        "#BIBLIOTECA DATETIME:\n",
        "https://docs.python.org/3/library/datetime.html"
      ],
      "metadata": {
        "id": "eGBC42rnfe7x"
      },
      "execution_count": null,
      "outputs": []
    },
    {
      "cell_type": "code",
      "source": [
        "import datetime\n",
        "\n",
        "dir(datetime)"
      ],
      "metadata": {
        "colab": {
          "base_uri": "https://localhost:8080/"
        },
        "id": "myAHA5BXfmho",
        "outputId": "fab07a18-d93c-4db2-b6ee-148f4545028e"
      },
      "execution_count": 10,
      "outputs": [
        {
          "output_type": "execute_result",
          "data": {
            "text/plain": [
              "['MAXYEAR',\n",
              " 'MINYEAR',\n",
              " '__builtins__',\n",
              " '__cached__',\n",
              " '__doc__',\n",
              " '__file__',\n",
              " '__loader__',\n",
              " '__name__',\n",
              " '__package__',\n",
              " '__spec__',\n",
              " 'date',\n",
              " 'datetime',\n",
              " 'datetime_CAPI',\n",
              " 'sys',\n",
              " 'time',\n",
              " 'timedelta',\n",
              " 'timezone',\n",
              " 'tzinfo']"
            ]
          },
          "metadata": {},
          "execution_count": 10
        }
      ]
    },
    {
      "cell_type": "code",
      "source": [
        "print(datetime.date.today())\n",
        "print(datetime.datetime.now())"
      ],
      "metadata": {
        "colab": {
          "base_uri": "https://localhost:8080/"
        },
        "id": "DcAzx8maf2Rs",
        "outputId": "c7a971d5-3ad5-4ce2-f7e1-1d7b2abf2149"
      },
      "execution_count": 13,
      "outputs": [
        {
          "output_type": "stream",
          "name": "stdout",
          "text": [
            "2022-03-02\n",
            "2022-03-02 11:59:59.425745\n"
          ]
        }
      ]
    },
    {
      "cell_type": "code",
      "source": [
        "data = datetime.date(2022, 3, 2)\n",
        "print(data.day)\n",
        "print(data.month)\n",
        "print(data.year)"
      ],
      "metadata": {
        "colab": {
          "base_uri": "https://localhost:8080/"
        },
        "id": "eIfnQTidgRYH",
        "outputId": "ea28dbdf-33af-4114-ccf3-7849bbd84f34"
      },
      "execution_count": 19,
      "outputs": [
        {
          "output_type": "stream",
          "name": "stdout",
          "text": [
            "2\n",
            "3\n",
            "2022\n"
          ]
        }
      ]
    },
    {
      "cell_type": "code",
      "source": [
        "horario = datetime.datetime(2022, 3, 2, 9, 3, 0)\n",
        "print(horario.hour)\n",
        "print(horario.minute)\n",
        "print(horario.second)"
      ],
      "metadata": {
        "colab": {
          "base_uri": "https://localhost:8080/"
        },
        "id": "i9xZcD0NgwnV",
        "outputId": "221bb64f-f94b-4376-a61a-835ba76bb3bb"
      },
      "execution_count": 24,
      "outputs": [
        {
          "output_type": "stream",
          "name": "stdout",
          "text": [
            "9\n",
            "3\n",
            "0\n"
          ]
        }
      ]
    },
    {
      "cell_type": "code",
      "source": [
        "#BIBLIOTECA RANDOM:\n",
        "https://docs.python.org/3/library/random.html\n"
      ],
      "metadata": {
        "id": "uWrKKoEwhSrE"
      },
      "execution_count": null,
      "outputs": []
    },
    {
      "cell_type": "code",
      "source": [
        "import random"
      ],
      "metadata": {
        "id": "MBHmWwv5hfA3"
      },
      "execution_count": 25,
      "outputs": []
    },
    {
      "cell_type": "code",
      "source": [
        "print(random.random())\n",
        "# retorna números aleatórios entre 0 e 1.\n",
        "\n",
        "print(random.randint(1, 10))\n",
        "#retorna um número inteiro em um intervalo definido\n",
        "\n",
        "print(random.randrange(0, 10, 2))\n",
        "#retorna um número inteiro em um intervalo definido com números espaçados em 2 unidades\n",
        "\n",
        "print(random.randrange(0, 10, 3))\n",
        "#retorna um número inteiro em um intervalo definido com números espaçados em 3 unidades\n",
        "\n"
      ],
      "metadata": {
        "colab": {
          "base_uri": "https://localhost:8080/"
        },
        "id": "ZxiGY0SLhllr",
        "outputId": "29602653-ecc2-46bc-e4ea-38e4430ca6d9"
      },
      "execution_count": 52,
      "outputs": [
        {
          "output_type": "stream",
          "name": "stdout",
          "text": [
            "0.8334535350252148\n",
            "4\n",
            "4\n",
            "0\n"
          ]
        }
      ]
    },
    {
      "cell_type": "code",
      "source": [
        "x = [\"k\", \"d\", 13, \"34 - j\", \"x\"]\n",
        "\n",
        "print(x)\n",
        "\n",
        "print(random.choice(x))\n",
        "#escolhe aleatoriamente um item de uma lista. Utilizado para sorteios.\n"
      ],
      "metadata": {
        "colab": {
          "base_uri": "https://localhost:8080/"
        },
        "id": "QemQUEC1khIG",
        "outputId": "8d757fab-5905-48ce-c73c-51ef100aa641"
      },
      "execution_count": 58,
      "outputs": [
        {
          "output_type": "stream",
          "name": "stdout",
          "text": [
            "['k', 'd', 13, '34 - j', 'x']\n",
            "34 - j\n"
          ]
        }
      ]
    },
    {
      "cell_type": "code",
      "source": [
        "#BIBLIOTECA TIME:\n",
        "https://docs.python.org/3/library/time.html"
      ],
      "metadata": {
        "id": "171SnvCQlEIa"
      },
      "execution_count": null,
      "outputs": []
    },
    {
      "cell_type": "code",
      "source": [
        "import time as tm"
      ],
      "metadata": {
        "id": "TBuAku7SlMGc"
      },
      "execution_count": 59,
      "outputs": []
    },
    {
      "cell_type": "code",
      "source": [
        "tm.time()"
      ],
      "metadata": {
        "colab": {
          "base_uri": "https://localhost:8080/"
        },
        "id": "oJwdKZJHlRG3",
        "outputId": "08d7ac56-e4cb-401f-c6cf-cc8fe1664e0e"
      },
      "execution_count": 68,
      "outputs": [
        {
          "output_type": "execute_result",
          "data": {
            "text/plain": [
              "1646223787.4451506"
            ]
          },
          "metadata": {},
          "execution_count": 68
        }
      ]
    },
    {
      "cell_type": "code",
      "source": [
        "antes = tm.time()\n",
        "\n",
        "lista = []\n",
        "for i in range(0, 10000):\n",
        "  lista.append(i)\n",
        "depois = tm.time()\n",
        "\n",
        "intervalo = depois - antes\n",
        "print(f'O tempo decorrido foi de: {intervalo} segundos')\n"
      ],
      "metadata": {
        "colab": {
          "base_uri": "https://localhost:8080/"
        },
        "id": "sgxmGQjtlrL8",
        "outputId": "34559bbe-d7f0-409a-c052-ae84054aa221"
      },
      "execution_count": 76,
      "outputs": [
        {
          "output_type": "stream",
          "name": "stdout",
          "text": [
            "O tempo decorrido foi de: 0.0029485225677490234 segundos\n"
          ]
        }
      ]
    },
    {
      "cell_type": "code",
      "source": [
        "print(\"Finalizando...\")\n",
        "tm.sleep(2)\n",
        "print(\"...\")\n",
        "tm.sleep(2)\n",
        "print(\"Até a próxima\")"
      ],
      "metadata": {
        "colab": {
          "base_uri": "https://localhost:8080/"
        },
        "id": "z4gVPNO1mY9_",
        "outputId": "a9b9cafb-378c-461a-a27e-437744914860"
      },
      "execution_count": 78,
      "outputs": [
        {
          "output_type": "stream",
          "name": "stdout",
          "text": [
            "Finalizando...\n",
            "...\n",
            "Até a próxima\n"
          ]
        }
      ]
    }
  ]
}