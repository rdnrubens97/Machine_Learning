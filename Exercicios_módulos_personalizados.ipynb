{
  "nbformat": 4,
  "nbformat_minor": 0,
  "metadata": {
    "colab": {
      "name": "Exercicios_módulos_personalizados",
      "provenance": [],
      "authorship_tag": "ABX9TyO+rgBHiw4tc0zW68aHR6Ge",
      "include_colab_link": true
    },
    "kernelspec": {
      "name": "python3",
      "display_name": "Python 3"
    },
    "language_info": {
      "name": "python"
    }
  },
  "cells": [
    {
      "cell_type": "markdown",
      "metadata": {
        "id": "view-in-github",
        "colab_type": "text"
      },
      "source": [
        "<a href=\"https://colab.research.google.com/github/rdnrubens97/Machine_Learning/blob/main/Exercicios_m%C3%B3dulos_personalizados.ipynb\" target=\"_parent\"><img src=\"https://colab.research.google.com/assets/colab-badge.svg\" alt=\"Open In Colab\"/></a>"
      ]
    },
    {
      "cell_type": "code",
      "execution_count": 2,
      "metadata": {
        "id": "l2OeOrRz4DbG"
      },
      "outputs": [],
      "source": [
        "import nomeidade as ler"
      ]
    },
    {
      "cell_type": "code",
      "source": [
        "texto = ler.lernome()\n",
        "numero = ler.leridade()\n",
        "print(f\"Você se chama {texto} e tem {numero} anos.\")"
      ],
      "metadata": {
        "colab": {
          "base_uri": "https://localhost:8080/"
        },
        "id": "DiSx6mwK4hr0",
        "outputId": "ac2a3fc1-df08-41d5-b77a-38006ffdded4"
      },
      "execution_count": 18,
      "outputs": [
        {
          "output_type": "stream",
          "name": "stdout",
          "text": [
            "Digite seu nome: Rubens\n",
            "Digite sua idade: 24\n",
            "Você se chama Rubens e tem 24 anos.\n"
          ]
        }
      ]
    }
  ]
}