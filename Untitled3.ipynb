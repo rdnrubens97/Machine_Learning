{
  "nbformat": 4,
  "nbformat_minor": 0,
  "metadata": {
    "colab": {
      "name": "Untitled3.ipynb",
      "provenance": [],
      "authorship_tag": "ABX9TyPJWR0zowMN7CKgkCezvHA3",
      "include_colab_link": true
    },
    "kernelspec": {
      "name": "python3",
      "display_name": "Python 3"
    },
    "language_info": {
      "name": "python"
    }
  },
  "cells": [
    {
      "cell_type": "markdown",
      "metadata": {
        "id": "view-in-github",
        "colab_type": "text"
      },
      "source": [
        "<a href=\"https://colab.research.google.com/github/rdnrubens97/Machine_Learning/blob/main/Untitled3.ipynb\" target=\"_parent\"><img src=\"https://colab.research.google.com/assets/colab-badge.svg\" alt=\"Open In Colab\"/></a>"
      ]
    },
    {
      "cell_type": "code",
      "execution_count": null,
      "metadata": {
        "id": "3Wjhy5NdKKZA"
      },
      "outputs": [],
      "source": [
        "# Implemente cada exercício utilizando tanto o for quanto o while:\n",
        "# Ler 5 notas e informar a média\n",
        "# Imprimir a tabuada do número 3 (3 x 1 = 1 - 3 x 10 = 30)"
      ]
    },
    {
      "cell_type": "code",
      "source": [
        "soma = 0\n",
        "numero = 1\n",
        "\n",
        "\n",
        "for numero in range (1, 6):\n",
        "  nota = float(input(\"Digite sua nota: \"))\n",
        "  soma = soma + nota\n",
        "  numero = numero + 1\n",
        "  \n",
        "print(\"Suas notas somadas totalizam: \", soma)\n",
        "media = soma/5\n",
        "print(\"Sua média final é: \",media)\n",
        "  \n",
        "\n",
        "\n",
        "\n",
        "\n"
      ],
      "metadata": {
        "colab": {
          "base_uri": "https://localhost:8080/"
        },
        "id": "ER1Dy7oxKbFN",
        "outputId": "0836f492-c21c-45ac-fe63-f5cf0a1ff620"
      },
      "execution_count": 40,
      "outputs": [
        {
          "output_type": "stream",
          "name": "stdout",
          "text": [
            "Digite sua nota: 5.6\n",
            "Digite sua nota: 8.7\n",
            "Digite sua nota: 9.4\n",
            "Digite sua nota: 3.5\n",
            "Digite sua nota: 6.1\n",
            "Suas notas somadas totalizam:  33.3\n",
            "Sua média final é:  6.659999999999999\n"
          ]
        }
      ]
    },
    {
      "cell_type": "code",
      "source": [
        "soma = 0\n",
        "numero = 1\n",
        "while numero <6:\n",
        "  numero = numero + 1\n",
        "  nota = float(input(\"Digite sua nota :\"))\n",
        "  soma = soma + nota\n",
        "\n",
        "media = soma/5\n",
        "print(\"Suas notas somadas totalizam: \", soma)\n",
        "print(\"Sua media é de: \", media)"
      ],
      "metadata": {
        "colab": {
          "base_uri": "https://localhost:8080/"
        },
        "id": "buAYN2uDRXBc",
        "outputId": "2e02d791-a661-4725-964b-e46cc520240f"
      },
      "execution_count": 42,
      "outputs": [
        {
          "output_type": "stream",
          "name": "stdout",
          "text": [
            "Digite sua nota :5.6\n",
            "Digite sua nota :8.7\n",
            "Digite sua nota :9.4\n",
            "Digite sua nota :3.5\n",
            "Digite sua nota :6.1\n",
            "Suas notas somadas totalizam:  33.3\n",
            "Sua media é de:  6.659999999999999\n"
          ]
        }
      ]
    },
    {
      "cell_type": "code",
      "source": [
        "numero = 0\n",
        "\n",
        "while numero < 10:\n",
        "  numero = numero + 1\n",
        "  print(\"3 x\",numero, \"=\", 3 * numero)\n",
        " \n",
        "  "
      ],
      "metadata": {
        "colab": {
          "base_uri": "https://localhost:8080/"
        },
        "id": "JhHoRjPFSrNx",
        "outputId": "f8c8ee9d-499c-41bc-a6a5-a3c3026602c4"
      },
      "execution_count": 58,
      "outputs": [
        {
          "output_type": "stream",
          "name": "stdout",
          "text": [
            "3 x 1 = 3\n",
            "3 x 2 = 6\n",
            "3 x 3 = 9\n",
            "3 x 4 = 12\n",
            "3 x 5 = 15\n",
            "3 x 6 = 18\n",
            "3 x 7 = 21\n",
            "3 x 8 = 24\n",
            "3 x 9 = 27\n",
            "3 x 10 = 30\n"
          ]
        }
      ]
    },
    {
      "cell_type": "code",
      "source": [
        "numero = 1\n",
        "\n",
        "for numero in range (1,11):\n",
        "  print(\"3 x\",numero, \"=\", 3 * numero)\n"
      ],
      "metadata": {
        "colab": {
          "base_uri": "https://localhost:8080/"
        },
        "id": "3q78XoJCUHHQ",
        "outputId": "541699c8-d355-4c73-fa7a-c6a725eb559b"
      },
      "execution_count": 62,
      "outputs": [
        {
          "output_type": "stream",
          "name": "stdout",
          "text": [
            "3 x 1 = 3\n",
            "3 x 2 = 6\n",
            "3 x 3 = 9\n",
            "3 x 4 = 12\n",
            "3 x 5 = 15\n",
            "3 x 6 = 18\n",
            "3 x 7 = 21\n",
            "3 x 8 = 24\n",
            "3 x 9 = 27\n",
            "3 x 10 = 30\n"
          ]
        }
      ]
    }
  ]
}