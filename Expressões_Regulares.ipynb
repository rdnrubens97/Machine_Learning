{
  "nbformat": 4,
  "nbformat_minor": 0,
  "metadata": {
    "colab": {
      "name": "Expressões Regulares",
      "provenance": [],
      "authorship_tag": "ABX9TyMwWnyl0LfUBgjLr3pMeDMy",
      "include_colab_link": true
    },
    "kernelspec": {
      "name": "python3",
      "display_name": "Python 3"
    },
    "language_info": {
      "name": "python"
    }
  },
  "cells": [
    {
      "cell_type": "markdown",
      "metadata": {
        "id": "view-in-github",
        "colab_type": "text"
      },
      "source": [
        "<a href=\"https://colab.research.google.com/github/rdnrubens97/Machine_Learning/blob/main/Express%C3%B5es_Regulares.ipynb\" target=\"_parent\"><img src=\"https://colab.research.google.com/assets/colab-badge.svg\" alt=\"Open In Colab\"/></a>"
      ]
    },
    {
      "cell_type": "markdown",
      "source": [
        "FUNÇÃO SEARCH\n"
      ],
      "metadata": {
        "id": "hfQkjFBkvJRO"
      }
    },
    {
      "cell_type": "code",
      "source": [
        "import re"
      ],
      "metadata": {
        "id": "peHBpweKvXzF"
      },
      "execution_count": 16,
      "outputs": []
    },
    {
      "cell_type": "code",
      "source": [
        "frase = 'Olá, meu número de telefone é (42)0000-0000'"
      ],
      "metadata": {
        "id": "Z_p8xC2LvNd2"
      },
      "execution_count": 21,
      "outputs": []
    },
    {
      "cell_type": "code",
      "source": [
        "re.search(\"\\(\\d{2}\\)\\d{4,5}-\\d{4}\", frase)"
      ],
      "metadata": {
        "colab": {
          "base_uri": "https://localhost:8080/"
        },
        "id": "OL0cmYJevhD8",
        "outputId": "e20c266b-21ea-4ed7-d706-a4ba43030959"
      },
      "execution_count": 22,
      "outputs": [
        {
          "output_type": "execute_result",
          "data": {
            "text/plain": [
              "<re.Match object; span=(30, 43), match='(42)0000-0000'>"
            ]
          },
          "metadata": {},
          "execution_count": 22
        }
      ]
    },
    {
      "cell_type": "code",
      "source": [
        "frase = 'A placa de carro que eu anotei durante o acidente foi FrT-1998'"
      ],
      "metadata": {
        "id": "dujdx_hyvQxh"
      },
      "execution_count": 23,
      "outputs": []
    },
    {
      "cell_type": "code",
      "source": [
        "re.search(\"[A-Za-z]{3}-\\d{4}\", frase)"
      ],
      "metadata": {
        "colab": {
          "base_uri": "https://localhost:8080/"
        },
        "id": "iYra9tlQxHKu",
        "outputId": "ff9de5d1-9579-4dde-8e24-b7e4284f3439"
      },
      "execution_count": 25,
      "outputs": [
        {
          "output_type": "execute_result",
          "data": {
            "text/plain": [
              "<re.Match object; span=(54, 62), match='FrT-1998'>"
            ]
          },
          "metadata": {},
          "execution_count": 25
        }
      ]
    },
    {
      "cell_type": "code",
      "source": [
        "email = 'Entre em contato, meu email é teste@teste.com'"
      ],
      "metadata": {
        "id": "i9J-3n3_vS6Y"
      },
      "execution_count": 27,
      "outputs": []
    },
    {
      "cell_type": "code",
      "source": [
        "re.search(\"\\w+@\\w+\\.com\", email)"
      ],
      "metadata": {
        "colab": {
          "base_uri": "https://localhost:8080/"
        },
        "id": "H1x5mLeAyZ0Y",
        "outputId": "57fa1f63-faa3-44d9-8a7f-d7cd1311bda7"
      },
      "execution_count": 29,
      "outputs": [
        {
          "output_type": "execute_result",
          "data": {
            "text/plain": [
              "<re.Match object; span=(30, 45), match='teste@teste.com'>"
            ]
          },
          "metadata": {},
          "execution_count": 29
        }
      ]
    },
    {
      "cell_type": "markdown",
      "source": [
        "FUNÇÃO MATCH"
      ],
      "metadata": {
        "id": "tVRSD__rz2we"
      }
    },
    {
      "cell_type": "code",
      "source": [
        "frase = 'A placa de carro que eu anotei durante a batida foi FRT-1998'"
      ],
      "metadata": {
        "id": "j84qq0Ekz6rl"
      },
      "execution_count": 30,
      "outputs": []
    },
    {
      "cell_type": "code",
      "source": [
        "print(re.match(\"[A-Za-z]{3}-\\d{4}\", frase))"
      ],
      "metadata": {
        "colab": {
          "base_uri": "https://localhost:8080/"
        },
        "id": "aNxMdyfO0P5X",
        "outputId": "52413449-e67d-4101-94b5-1e721f44f719"
      },
      "execution_count": 33,
      "outputs": [
        {
          "output_type": "stream",
          "name": "stdout",
          "text": [
            "None\n"
          ]
        }
      ]
    },
    {
      "cell_type": "code",
      "source": [
        "frase2 = 'FRT-1998 é a placa do carro'"
      ],
      "metadata": {
        "id": "BFFgcZTxz90d"
      },
      "execution_count": 36,
      "outputs": []
    },
    {
      "cell_type": "code",
      "source": [
        "print(re.match(\"[A-Za-z]{3}-\\d{4}\", frase2))"
      ],
      "metadata": {
        "colab": {
          "base_uri": "https://localhost:8080/"
        },
        "id": "XTb5VeSn0YUg",
        "outputId": "5c426b50-d959-401e-c99c-dbd52427f8a8"
      },
      "execution_count": 37,
      "outputs": [
        {
          "output_type": "stream",
          "name": "stdout",
          "text": [
            "<re.Match object; span=(0, 8), match='FRT-1998'>\n"
          ]
        }
      ]
    },
    {
      "cell_type": "markdown",
      "source": [
        "FUNÇÃO FINDALL"
      ],
      "metadata": {
        "id": "38PEzD9f0dh6"
      }
    },
    {
      "cell_type": "code",
      "source": [
        "frase3 = 'Meu número de telefone atual é (42)0000-0000. O número (56)1111-1111 é o antigo'"
      ],
      "metadata": {
        "id": "LAUuQlbV0hYU"
      },
      "execution_count": 39,
      "outputs": []
    },
    {
      "cell_type": "code",
      "source": [
        "re.findall(\"\\(\\d{2}\\)\\d{4,5}-\\d{4}\", frase3)"
      ],
      "metadata": {
        "colab": {
          "base_uri": "https://localhost:8080/"
        },
        "id": "H_ULexaI0nmg",
        "outputId": "6723a31a-e7f7-4318-ac1d-75442fe2e31b"
      },
      "execution_count": 40,
      "outputs": [
        {
          "output_type": "execute_result",
          "data": {
            "text/plain": [
              "['(42)0000-0000', '(56)1111-1111']"
            ]
          },
          "metadata": {},
          "execution_count": 40
        }
      ]
    },
    {
      "cell_type": "code",
      "source": [
        "emails = '''Nome: Teste 1\n",
        "email: teste1@teste.com\n",
        "Nome: Teste 2\n",
        "email: teste2@teste.com\n",
        "Nome: Teste 3\n",
        "email: teste3@teste.com.br\n",
        "'''"
      ],
      "metadata": {
        "id": "ahH1VTr40lvQ"
      },
      "execution_count": 41,
      "outputs": []
    },
    {
      "cell_type": "code",
      "source": [
        "re.findall(\"\\w+@\\w+\\.\\w*\", emails)"
      ],
      "metadata": {
        "colab": {
          "base_uri": "https://localhost:8080/"
        },
        "id": "Y29JaQTn02Sz",
        "outputId": "b9c3b71a-2052-4398-bd07-a0cd2026bbbf"
      },
      "execution_count": 43,
      "outputs": [
        {
          "output_type": "execute_result",
          "data": {
            "text/plain": [
              "['teste1@teste.com', 'teste2@teste.com', 'teste3@teste.com']"
            ]
          },
          "metadata": {},
          "execution_count": 43
        }
      ]
    }
  ]
}