{
  "nbformat": 4,
  "nbformat_minor": 0,
  "metadata": {
    "colab": {
      "name": "Tratamento de Erros, exercício",
      "provenance": [],
      "authorship_tag": "ABX9TyOlzIEJX/talGB2q2rQg7Vn",
      "include_colab_link": true
    },
    "kernelspec": {
      "name": "python3",
      "display_name": "Python 3"
    },
    "language_info": {
      "name": "python"
    }
  },
  "cells": [
    {
      "cell_type": "markdown",
      "metadata": {
        "id": "view-in-github",
        "colab_type": "text"
      },
      "source": [
        "<a href=\"https://colab.research.google.com/github/rdnrubens97/Machine_Learning/blob/main/Tratamento_de_Erros%2C_exerc%C3%ADcio.ipynb\" target=\"_parent\"><img src=\"https://colab.research.google.com/assets/colab-badge.svg\" alt=\"Open In Colab\"/></a>"
      ]
    },
    {
      "cell_type": "code",
      "execution_count": 2,
      "metadata": {
        "id": "3bDdSOKIVMZ5"
      },
      "outputs": [],
      "source": [
        "#Olá,\n",
        "\n",
        "#Crie uma lista vazia e faça a leitura de dois valores do tipo float, colocando cada um dos valores nas primeiras posições da lista \n",
        "#(o valor1 ficará na posição 0 da lista e o valor2 ficará na posição 1 da lista). \n",
        "#Faça a divisão dos dois valores e trate as seguintes exceções:\n",
        "\n",
        "#- ValueError: se o usuário digitar um caracter\n",
        "#- ZeroDivisionError: se o usuário digitar zero e ocorrer erro na divisão\n",
        "#- IndexError: caso a divisão seja feita levando em consideração posições que não existem na lista\n",
        "#- KeyboardInterrupt: caso o usuário interrompa a execução\n",
        "\n",
        "#Mostre uma mensagem personalizada na ocorrência de cada um desses erros"
      ]
    },
    {
      "cell_type": "code",
      "source": [
        "lista = []\n",
        "\n",
        "for valor in range(0, 2):\n",
        "  valor = float(input(\"Digite o valor: \"))\n",
        "  lista.append(valor)\n",
        "div = lista[0]/lista[1]\n",
        "print(div)"
      ],
      "metadata": {
        "colab": {
          "base_uri": "https://localhost:8080/"
        },
        "id": "IUwuIi5AVzvK",
        "outputId": "d0a730a7-fa01-4e7d-9f7e-8e6f59b377fd"
      },
      "execution_count": 15,
      "outputs": [
        {
          "output_type": "stream",
          "name": "stdout",
          "text": [
            "Digite o valor: 10\n",
            "Digite o valor: 1\n",
            "10.0\n"
          ]
        }
      ]
    },
    {
      "cell_type": "code",
      "source": [
        "lista = []\n",
        "try:\n",
        "  lista.append(float(input(\"Digite o primeiro valor: \")))\n",
        "  lista.append(float(input(\"Digite o segundo valor: \")))\n",
        "  div = lista[0]/lista[1] \n",
        "except ValueError:\n",
        "  print(\"Erro, valor inválido.\")\n",
        "except ZeroDivisionError:\n",
        "  print(\"Erro, divisão por zero.\")\n",
        "except IndexError:\n",
        "  print(\"Erro, Índice inválido.\")\n",
        "except KeyboardInterrupt:\n",
        "  print(\"Erro, processo interrompido.\")\n",
        "else:         \n",
        "  print(f\"O valor da divisão é {div}\")\n",
        "\n",
        "\n",
        "\n",
        "\n",
        "\n",
        "\n",
        "\n"
      ],
      "metadata": {
        "colab": {
          "base_uri": "https://localhost:8080/"
        },
        "id": "NaQ_MKvmaRbU",
        "outputId": "1301481f-3bc1-4648-8397-6dcc270f010b"
      },
      "execution_count": 54,
      "outputs": [
        {
          "output_type": "stream",
          "name": "stdout",
          "text": [
            "Digite o primeiro valor: 10\n",
            "Digite o segundo valor: 10\n",
            "O valor da divisão é 1.0\n"
          ]
        }
      ]
    }
  ]
}