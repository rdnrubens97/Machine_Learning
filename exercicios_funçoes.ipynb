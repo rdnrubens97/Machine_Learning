{
  "nbformat": 4,
  "nbformat_minor": 0,
  "metadata": {
    "colab": {
      "name": "exercicios funçoes",
      "provenance": [],
      "authorship_tag": "ABX9TyNYTkG+dbZK38TzPERTHyOY",
      "include_colab_link": true
    },
    "kernelspec": {
      "name": "python3",
      "display_name": "Python 3"
    },
    "language_info": {
      "name": "python"
    }
  },
  "cells": [
    {
      "cell_type": "markdown",
      "metadata": {
        "id": "view-in-github",
        "colab_type": "text"
      },
      "source": [
        "<a href=\"https://colab.research.google.com/github/rdnrubens97/Machine_Learning/blob/main/exercicios_fun%C3%A7oes.ipynb\" target=\"_parent\"><img src=\"https://colab.research.google.com/assets/colab-badge.svg\" alt=\"Open In Colab\"/></a>"
      ]
    },
    {
      "cell_type": "code",
      "execution_count": 1,
      "metadata": {
        "id": "9fop1_A1pHzH"
      },
      "outputs": [],
      "source": [
        "#Ler uma temperatura em graus Celsius e apresentá-la convertida em graus Fahrenheit. \n",
        "#A fórmula de conversão é F = (9 * C + 160) / 5, na qual F é a temperatura em Fahrenheit e C é a temperatura em graus Celsius\n",
        "#- Função para ler e retorna o valor da temperatura (não recebe parâmetro)\n",
        "#- Função para fazer o cálculo (recebe como parâmetro a temperatura em graus Celsius)\n",
        "#- Função para mostrar o resultado, recebendo como parâmetro o valor e fazendo a impressão\n"
      ]
    },
    {
      "cell_type": "code",
      "source": [
        "def celcius():\n",
        "  temperatura = float(input(\"Temperatura em graus Celcius: \"))\n",
        "  return temperatura\n",
        "\n",
        "def tempf(a=9, b= celcius(), c=160, d=5):\n",
        "  tempfa = ((a * b + c)/5)\n",
        "  return tempfa\n",
        "\n",
        "def mostrar(tempfa):\n",
        "  print(tempfa)\n",
        "  \n",
        "\n",
        "\n",
        "\n"
      ],
      "metadata": {
        "colab": {
          "base_uri": "https://localhost:8080/"
        },
        "id": "fJ_umB0rt5xv",
        "outputId": "a5b7b934-25dd-495f-98ae-d53fda87c9f7"
      },
      "execution_count": 143,
      "outputs": [
        {
          "name": "stdout",
          "output_type": "stream",
          "text": [
            "Temperatura em graus Celcius: 10\n"
          ]
        }
      ]
    },
    {
      "cell_type": "code",
      "source": [
        "\n",
        "celcius = celcius()\n",
        "fah = tempf()\n",
        "mostrar(fah)"
      ],
      "metadata": {
        "colab": {
          "base_uri": "https://localhost:8080/",
          "height": 217
        },
        "id": "CKtZ0tZR1nNx",
        "outputId": "27a522c2-5440-475b-d266-96c119442489"
      },
      "execution_count": 145,
      "outputs": [
        {
          "output_type": "error",
          "ename": "TypeError",
          "evalue": "ignored",
          "traceback": [
            "\u001b[0;31m---------------------------------------------------------------------------\u001b[0m",
            "\u001b[0;31mTypeError\u001b[0m                                 Traceback (most recent call last)",
            "\u001b[0;32m<ipython-input-145-de1890497097>\u001b[0m in \u001b[0;36m<module>\u001b[0;34m()\u001b[0m\n\u001b[1;32m      1\u001b[0m \u001b[0;34m\u001b[0m\u001b[0m\n\u001b[0;32m----> 2\u001b[0;31m \u001b[0mcelcius\u001b[0m \u001b[0;34m=\u001b[0m \u001b[0mcelcius\u001b[0m\u001b[0;34m(\u001b[0m\u001b[0;34m)\u001b[0m\u001b[0;34m\u001b[0m\u001b[0;34m\u001b[0m\u001b[0m\n\u001b[0m\u001b[1;32m      3\u001b[0m \u001b[0mfah\u001b[0m \u001b[0;34m=\u001b[0m \u001b[0mtempf\u001b[0m\u001b[0;34m(\u001b[0m\u001b[0;34m)\u001b[0m\u001b[0;34m\u001b[0m\u001b[0;34m\u001b[0m\u001b[0m\n\u001b[1;32m      4\u001b[0m \u001b[0mmostrar\u001b[0m\u001b[0;34m(\u001b[0m\u001b[0mfah\u001b[0m\u001b[0;34m)\u001b[0m\u001b[0;34m\u001b[0m\u001b[0;34m\u001b[0m\u001b[0m\n",
            "\u001b[0;31mTypeError\u001b[0m: 'float' object is not callable"
          ]
        }
      ]
    }
  ]
}