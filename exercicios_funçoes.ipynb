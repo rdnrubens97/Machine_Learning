{
  "nbformat": 4,
  "nbformat_minor": 0,
  "metadata": {
    "colab": {
      "name": "exercicios funçoes",
      "provenance": [],
      "authorship_tag": "ABX9TyPRGdG01wiV3SK88aDwlx+j",
      "include_colab_link": true
    },
    "kernelspec": {
      "name": "python3",
      "display_name": "Python 3"
    },
    "language_info": {
      "name": "python"
    }
  },
  "cells": [
    {
      "cell_type": "markdown",
      "metadata": {
        "id": "view-in-github",
        "colab_type": "text"
      },
      "source": [
        "<a href=\"https://colab.research.google.com/github/rdnrubens97/Machine_Learning/blob/main/exercicios_fun%C3%A7oes.ipynb\" target=\"_parent\"><img src=\"https://colab.research.google.com/assets/colab-badge.svg\" alt=\"Open In Colab\"/></a>"
      ]
    },
    {
      "cell_type": "code",
      "execution_count": null,
      "metadata": {
        "id": "9fop1_A1pHzH"
      },
      "outputs": [],
      "source": [
        "#Ler uma temperatura em graus Celsius e apresentá-la convertida em graus Fahrenheit. \n",
        "#A fórmula de conversão é F = (9 * C + 160) / 5, na qual F é a temperatura em Fahrenheit e C é a temperatura em graus Celsius\n",
        "#- Função para ler e retorna o valor da temperatura (não recebe parâmetro)\n",
        "#- Função para fazer o cálculo (recebe como parâmetro a temperatura em graus Celsius)\n",
        "#- Função para mostrar o resultado, recebendo como parâmetro o valor e fazendo a impressão\n"
      ]
    },
    {
      "cell_type": "code",
      "source": [
        "def ler_temperatura():\n",
        "  temperatura = float(input(\"Digite a temperatura em graus Celcius: \"))\n",
        "  return temperatura"
      ],
      "metadata": {
        "id": "_ZmOKDxU6eg-"
      },
      "execution_count": 31,
      "outputs": []
    },
    {
      "cell_type": "code",
      "source": [
        "def fahrenheit(temperatura_celcius):\n",
        "  temperatura_f = float((9 * temperatura_celcius + 160) / 5)\n",
        "  return temperatura_f"
      ],
      "metadata": {
        "id": "sRAZC3O-6xa0"
      },
      "execution_count": 32,
      "outputs": []
    },
    {
      "cell_type": "code",
      "source": [
        "def mostrar(temperatura_f):\n",
        "  print(temperatura_f)"
      ],
      "metadata": {
        "id": "Zcc0U6Db7ahS"
      },
      "execution_count": 33,
      "outputs": []
    },
    {
      "cell_type": "code",
      "source": [
        "temperatura_celcius = ler_temperatura()\n",
        "temperatura_f = fahrenheit(temperatura_celcius)\n",
        "mostrar(temperatura_f)\n"
      ],
      "metadata": {
        "id": "mrMsJCCq7mCu",
        "outputId": "08e1ec0c-715e-47c1-c42e-ac75b26d42b3",
        "colab": {
          "base_uri": "https://localhost:8080/"
        }
      },
      "execution_count": 35,
      "outputs": [
        {
          "output_type": "stream",
          "name": "stdout",
          "text": [
            "Digite a temperatura em graus Celcius: 10\n",
            "50.0\n"
          ]
        }
      ]
    }
  ]
}