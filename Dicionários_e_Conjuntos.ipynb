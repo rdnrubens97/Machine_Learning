{
  "nbformat": 4,
  "nbformat_minor": 0,
  "metadata": {
    "colab": {
      "name": "Dicionários e Conjuntos",
      "provenance": [],
      "authorship_tag": "ABX9TyOBMqzaU+PRSBgHMYjG8y3d",
      "include_colab_link": true
    },
    "kernelspec": {
      "name": "python3",
      "display_name": "Python 3"
    },
    "language_info": {
      "name": "python"
    }
  },
  "cells": [
    {
      "cell_type": "markdown",
      "metadata": {
        "id": "view-in-github",
        "colab_type": "text"
      },
      "source": [
        "<a href=\"https://colab.research.google.com/github/rdnrubens97/Machine_Learning/blob/main/Dicion%C3%A1rios_e_Conjuntos.ipynb\" target=\"_parent\"><img src=\"https://colab.research.google.com/assets/colab-badge.svg\" alt=\"Open In Colab\"/></a>"
      ]
    },
    {
      "cell_type": "code",
      "execution_count": 2,
      "metadata": {
        "id": "CSeBK-bLaRJ1"
      },
      "outputs": [],
      "source": [
        "#DICIONÁRIOS: nome é chave, numeros são os valores\n",
        "\n",
        "coleta = {\"São Paulo\": 100,\"Ponte Preta\": 50,\"Guarani\":25}"
      ]
    },
    {
      "cell_type": "code",
      "source": [
        "coleta[\"São Paulo\"]"
      ],
      "metadata": {
        "colab": {
          "base_uri": "https://localhost:8080/"
        },
        "id": "nI9EAmLCazou",
        "outputId": "f35dc6a4-c45b-4945-d4a6-b4dbeef52d46"
      },
      "execution_count": 4,
      "outputs": [
        {
          "output_type": "execute_result",
          "data": {
            "text/plain": [
              "100"
            ]
          },
          "metadata": {},
          "execution_count": 4
        }
      ]
    },
    {
      "cell_type": "code",
      "source": [
        "coleta[\"Ponte Preta\"]"
      ],
      "metadata": {
        "colab": {
          "base_uri": "https://localhost:8080/"
        },
        "id": "sIxdvd_Ba8Fl",
        "outputId": "ab1290f7-67ef-4f37-ca0c-fa7c7ce4b2b3"
      },
      "execution_count": 5,
      "outputs": [
        {
          "output_type": "execute_result",
          "data": {
            "text/plain": [
              "50"
            ]
          },
          "metadata": {},
          "execution_count": 5
        }
      ]
    },
    {
      "cell_type": "code",
      "source": [
        "coleta = {\"São Paulo\": 100,\"Ponte Preta\": 50,\"Guarani\":25}\n",
        "print(coleta)\n",
        "coleta[\"Ferroviária\"] = 12.5\n",
        "print(coleta)\n",
        "del(coleta)[\"Ferroviária\"]\n",
        "print(coleta)"
      ],
      "metadata": {
        "colab": {
          "base_uri": "https://localhost:8080/"
        },
        "id": "Ta816kbebEwK",
        "outputId": "8c3eb5a4-6a6b-4407-a6f9-f919ff4e5f63"
      },
      "execution_count": 10,
      "outputs": [
        {
          "output_type": "stream",
          "name": "stdout",
          "text": [
            "{'São Paulo': 100, 'Ponte Preta': 50, 'Guarani': 25}\n",
            "{'São Paulo': 100, 'Ponte Preta': 50, 'Guarani': 25, 'Ferroviária': 12.5}\n",
            "{'São Paulo': 100, 'Ponte Preta': 50, 'Guarani': 25}\n"
          ]
        }
      ]
    },
    {
      "cell_type": "code",
      "source": [
        "coleta = {\"São Paulo\": 100,\"Ponte Preta\": 50,\"Guarani\":25}\n",
        "print(coleta.items())\n",
        "print(coleta.keys())\n",
        "print(coleta.values())"
      ],
      "metadata": {
        "colab": {
          "base_uri": "https://localhost:8080/"
        },
        "id": "dWnzIdgidhqG",
        "outputId": "67c433a6-a35e-4065-d590-f097ca208ab1"
      },
      "execution_count": 14,
      "outputs": [
        {
          "output_type": "stream",
          "name": "stdout",
          "text": [
            "dict_items([('São Paulo', 100), ('Ponte Preta', 50), ('Guarani', 25)])\n",
            "dict_keys(['São Paulo', 'Ponte Preta', 'Guarani'])\n",
            "dict_values([100, 50, 25])\n"
          ]
        }
      ]
    },
    {
      "cell_type": "code",
      "source": [
        "coleta = {\"São Paulo\": 100,\"Ponte Preta\": 50,\"Guarani\":25}\n",
        "coleta2 = {\"Matonense\": 10,\"São Carlos\": 5,\"Botafogo\":2.5}\n",
        "coleta.update(coleta2)\n",
        "print(coleta)"
      ],
      "metadata": {
        "colab": {
          "base_uri": "https://localhost:8080/"
        },
        "id": "yUquU00md4U6",
        "outputId": "8d0daf49-50e8-4214-f04b-a7db9d8e38fe"
      },
      "execution_count": 17,
      "outputs": [
        {
          "output_type": "stream",
          "name": "stdout",
          "text": [
            "{'São Paulo': 100, 'Ponte Preta': 50, 'Guarani': 25, 'Matonense': 10, 'São Carlos': 5, 'Botafogo': 2.5}\n"
          ]
        }
      ]
    },
    {
      "cell_type": "code",
      "source": [
        "coleta.items()"
      ],
      "metadata": {
        "colab": {
          "base_uri": "https://localhost:8080/"
        },
        "id": "DT-JUMl0eRiE",
        "outputId": "5fffd33c-34ca-4884-e8d0-2a1f037a1318"
      },
      "execution_count": 18,
      "outputs": [
        {
          "output_type": "execute_result",
          "data": {
            "text/plain": [
              "dict_items([('São Paulo', 100), ('Ponte Preta', 50), ('Guarani', 25), ('Matonense', 10), ('São Carlos', 5), ('Botafogo', 2.5)])"
            ]
          },
          "metadata": {},
          "execution_count": 18
        }
      ]
    },
    {
      "cell_type": "code",
      "source": [
        "coleta = {\"São Paulo\": 100,\"Ponte Preta\": 50,\"Guarani\":25}\n",
        "\n",
        "for time, torcedores in coleta.items():\n",
        "  print(f\"Time: {time}, torcida: {torcedores}\")"
      ],
      "metadata": {
        "colab": {
          "base_uri": "https://localhost:8080/"
        },
        "id": "FpDQyuS6eWoa",
        "outputId": "df565741-4f2b-483b-e1f9-caf670c99dce"
      },
      "execution_count": 19,
      "outputs": [
        {
          "output_type": "stream",
          "name": "stdout",
          "text": [
            "Time: São Paulo, torcida: 100\n",
            "Time: Ponte Preta, torcida: 50\n",
            "Time: Guarani, torcida: 25\n"
          ]
        }
      ]
    },
    {
      "cell_type": "code",
      "source": [
        "#CONJUNTOS:\n",
        "\n",
        "itens = (\"bola\", \"chuteira\", \"camisa\", \"apito\"\n",
        "          \"Meião\", \"chuteira\", \"gramado\", \"bola\")\n",
        "print(itens)\n",
        "print(set(itens))"
      ],
      "metadata": {
        "colab": {
          "base_uri": "https://localhost:8080/"
        },
        "id": "7e1iP6QtfHjU",
        "outputId": "629e15e6-8672-4220-c6d7-bfa1492952d8"
      },
      "execution_count": 22,
      "outputs": [
        {
          "output_type": "stream",
          "name": "stdout",
          "text": [
            "('bola', 'chuteira', 'camisa', 'apitoMeião', 'chuteira', 'gramado', 'bola')\n",
            "{'camisa', 'gramado', 'bola', 'chuteira', 'apitoMeião'}\n"
          ]
        }
      ]
    },
    {
      "cell_type": "code",
      "source": [
        "c1 = {1,2,3,4,5}\n",
        "c2 = {3,4,5,6,7}\n",
        "c3 = c1.intersection(c2)\n",
        "\n",
        "print(c3)"
      ],
      "metadata": {
        "colab": {
          "base_uri": "https://localhost:8080/"
        },
        "id": "LwGwKN18f-gO",
        "outputId": "e9fb3ab0-87d2-4b8c-c309-3c699166bd18"
      },
      "execution_count": 23,
      "outputs": [
        {
          "output_type": "stream",
          "name": "stdout",
          "text": [
            "{3, 4, 5}\n"
          ]
        }
      ]
    },
    {
      "cell_type": "code",
      "source": [
        "c1 = {1,2,3,4,5}\n",
        "c2 = {3,4,5,6,7}\n",
        "\n",
        "print(c1.difference(c2))\n",
        "print(c2.difference(c1))"
      ],
      "metadata": {
        "colab": {
          "base_uri": "https://localhost:8080/"
        },
        "id": "O_jEGrk2gUJE",
        "outputId": "5914dc17-2fa4-4500-8f37-8c8335ce63a2"
      },
      "execution_count": 27,
      "outputs": [
        {
          "output_type": "stream",
          "name": "stdout",
          "text": [
            "{1, 2}\n",
            "{6, 7}\n"
          ]
        }
      ]
    }
  ]
}