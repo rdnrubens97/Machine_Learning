{
  "nbformat": 4,
  "nbformat_minor": 0,
  "metadata": {
    "colab": {
      "name": "Tuplas e Listas",
      "provenance": [],
      "authorship_tag": "ABX9TyNT9OZhivqO6l86+cvBTOAx",
      "include_colab_link": true
    },
    "kernelspec": {
      "name": "python3",
      "display_name": "Python 3"
    },
    "language_info": {
      "name": "python"
    }
  },
  "cells": [
    {
      "cell_type": "markdown",
      "metadata": {
        "id": "view-in-github",
        "colab_type": "text"
      },
      "source": [
        "<a href=\"https://colab.research.google.com/github/rdnrubens97/Machine_Learning/blob/main/Tuplas_e_Listas.ipynb\" target=\"_parent\"><img src=\"https://colab.research.google.com/assets/colab-badge.svg\" alt=\"Open In Colab\"/></a>"
      ]
    },
    {
      "cell_type": "code",
      "execution_count": 9,
      "metadata": {
        "id": "F8X5jvxHVNit"
      },
      "outputs": [],
      "source": [
        "tupla = (\"Rubens\", \"Larissa\", \"Dani\", \"Fubá\")"
      ]
    },
    {
      "cell_type": "code",
      "source": [
        "tupla\n",
        "print(tupla)\n",
        "print(\"\")\n",
        "print(tupla[0])\n",
        "print(tupla[1])\n",
        "print(tupla[2])\n",
        "print(tupla[3])\n"
      ],
      "metadata": {
        "colab": {
          "base_uri": "https://localhost:8080/"
        },
        "id": "QMtcwdy_Vyos",
        "outputId": "ad47425a-5b9d-4647-d41e-be9fa0c729fc"
      },
      "execution_count": 12,
      "outputs": [
        {
          "output_type": "stream",
          "name": "stdout",
          "text": [
            "('Rubens', 'Larissa', 'Dani', 'Fubá')\n",
            "\n",
            "Rubens\n",
            "Larissa\n",
            "Dani\n",
            "Fubá\n"
          ]
        }
      ]
    },
    {
      "cell_type": "code",
      "source": [
        "tupla.index(\"Fubá\")"
      ],
      "metadata": {
        "colab": {
          "base_uri": "https://localhost:8080/"
        },
        "id": "1Dn3ZPRiWUN2",
        "outputId": "7ac8e918-97eb-445a-f923-5790361948d0"
      },
      "execution_count": 13,
      "outputs": [
        {
          "output_type": "execute_result",
          "data": {
            "text/plain": [
              "3"
            ]
          },
          "metadata": {},
          "execution_count": 13
        }
      ]
    },
    {
      "cell_type": "code",
      "source": [
        "for elemento in tupla:\n",
        "  print(elemento)"
      ],
      "metadata": {
        "colab": {
          "base_uri": "https://localhost:8080/"
        },
        "id": "ceQ_Ns7wWfWD",
        "outputId": "af95bfa1-4636-4abf-89bd-51b0558f9f16"
      },
      "execution_count": 19,
      "outputs": [
        {
          "output_type": "stream",
          "name": "stdout",
          "text": [
            "Rubens\n",
            "Larissa\n",
            "Dani\n",
            "Fubá\n"
          ]
        }
      ]
    },
    {
      "cell_type": "code",
      "source": [
        "lista1 = [\"Rubens\", \"Larissa\", \"Dani\", \"Fubá\"]\n",
        "lista2 = [\"Humano\", \"Gato\", \"Cachorro\"]"
      ],
      "metadata": {
        "id": "I6x33L85XMqf"
      },
      "execution_count": 40,
      "outputs": []
    },
    {
      "cell_type": "code",
      "source": [
        "lista3 = lista1 + lista2\n",
        "print(lista3)"
      ],
      "metadata": {
        "colab": {
          "base_uri": "https://localhost:8080/"
        },
        "id": "Mx_7XkZrXauw",
        "outputId": "03629990-072f-47f8-dc48-7b65d7454e31"
      },
      "execution_count": 24,
      "outputs": [
        {
          "output_type": "stream",
          "name": "stdout",
          "text": [
            "['Rubens', 'Larissa', 'Dani', 'Fubá', 'Humano', 'Gato', 'Cachorro']\n"
          ]
        }
      ]
    },
    {
      "cell_type": "code",
      "source": [
        "lista1_2 = lista1 * 2\n",
        "print(lista1_2)\n",
        "lista2_2 = lista2 * 2\n",
        "print(lista2_2)"
      ],
      "metadata": {
        "colab": {
          "base_uri": "https://localhost:8080/"
        },
        "id": "GtS0fP-eXq7f",
        "outputId": "e17fdcb6-533d-43f4-bbdf-6c54c29ac6e6"
      },
      "execution_count": 27,
      "outputs": [
        {
          "output_type": "stream",
          "name": "stdout",
          "text": [
            "['Rubens', 'Larissa', 'Dani', 'Fubá', 'Rubens', 'Larissa', 'Dani', 'Fubá']\n",
            "['Humano', 'Gato', 'Cachorro', 'Humano', 'Gato', 'Cachorro']\n"
          ]
        }
      ]
    },
    {
      "cell_type": "code",
      "source": [
        "print(lista1)\n",
        "print(lista1[0])\n",
        "print(lista1[1])\n",
        "print(lista1[2])\n",
        "print(lista1[3])\n",
        "print(lista1[0:2])\n",
        "print(lista1[2:4])\n"
      ],
      "metadata": {
        "colab": {
          "base_uri": "https://localhost:8080/"
        },
        "id": "TBYV12IsX-oq",
        "outputId": "5234b377-de5e-4e52-c858-e407516b86b7"
      },
      "execution_count": 34,
      "outputs": [
        {
          "output_type": "stream",
          "name": "stdout",
          "text": [
            "['Rubens', 'Larissa', 'Dani', 'Fubá']\n",
            "Rubens\n",
            "Larissa\n",
            "Dani\n",
            "Fubá\n",
            "['Rubens', 'Larissa']\n",
            "['Dani', 'Fubá']\n"
          ]
        }
      ]
    },
    {
      "cell_type": "code",
      "source": [
        "lista1 = [\"Rubens\", \"Larissa\", \"Dani\", \"Fubá\"]\n",
        "lista1.append(\"Big\")\n",
        "print(lista1)\n",
        "lista1.remove(\"Rubens\")\n",
        "print(lista1)"
      ],
      "metadata": {
        "colab": {
          "base_uri": "https://localhost:8080/"
        },
        "id": "z0QDgIs9Y0bT",
        "outputId": "f7a9b892-4569-407e-d233-c1b8f506da4e"
      },
      "execution_count": 44,
      "outputs": [
        {
          "output_type": "stream",
          "name": "stdout",
          "text": [
            "['Rubens', 'Larissa', 'Dani', 'Fubá', 'Big']\n",
            "['Larissa', 'Dani', 'Fubá', 'Big']\n"
          ]
        }
      ]
    },
    {
      "cell_type": "code",
      "source": [
        "lista1 = [\"Rubens\", \"Larissa\", \"Dani\", \"Fubá\"]\n",
        "del(lista1)\n",
        "print(lista1)"
      ],
      "metadata": {
        "colab": {
          "base_uri": "https://localhost:8080/",
          "height": 200
        },
        "id": "5BKsq8tkZhJK",
        "outputId": "344bf41f-309e-423f-9a97-e5802cd0d8ac"
      },
      "execution_count": 46,
      "outputs": [
        {
          "output_type": "error",
          "ename": "NameError",
          "evalue": "ignored",
          "traceback": [
            "\u001b[0;31m---------------------------------------------------------------------------\u001b[0m",
            "\u001b[0;31mNameError\u001b[0m                                 Traceback (most recent call last)",
            "\u001b[0;32m<ipython-input-46-723eb5b06c6d>\u001b[0m in \u001b[0;36m<module>\u001b[0;34m()\u001b[0m\n\u001b[1;32m      1\u001b[0m \u001b[0mlista1\u001b[0m \u001b[0;34m=\u001b[0m \u001b[0;34m[\u001b[0m\u001b[0;34m\"Rubens\"\u001b[0m\u001b[0;34m,\u001b[0m \u001b[0;34m\"Larissa\"\u001b[0m\u001b[0;34m,\u001b[0m \u001b[0;34m\"Dani\"\u001b[0m\u001b[0;34m,\u001b[0m \u001b[0;34m\"Fubá\"\u001b[0m\u001b[0;34m]\u001b[0m\u001b[0;34m\u001b[0m\u001b[0;34m\u001b[0m\u001b[0m\n\u001b[1;32m      2\u001b[0m \u001b[0;32mdel\u001b[0m\u001b[0;34m(\u001b[0m\u001b[0mlista1\u001b[0m\u001b[0;34m)\u001b[0m\u001b[0;34m\u001b[0m\u001b[0;34m\u001b[0m\u001b[0m\n\u001b[0;32m----> 3\u001b[0;31m \u001b[0mprint\u001b[0m\u001b[0;34m(\u001b[0m\u001b[0mlista1\u001b[0m\u001b[0;34m)\u001b[0m\u001b[0;34m\u001b[0m\u001b[0;34m\u001b[0m\u001b[0m\n\u001b[0m",
            "\u001b[0;31mNameError\u001b[0m: name 'lista1' is not defined"
          ]
        }
      ]
    },
    {
      "cell_type": "code",
      "source": [
        "lista1 = [\"Rubens\", \"Larissa\", \"Dani\", \"Fubá\"]\n",
        "for item in lista1:\n",
        "  print(item)"
      ],
      "metadata": {
        "colab": {
          "base_uri": "https://localhost:8080/"
        },
        "id": "B69UnwDaZrOW",
        "outputId": "2f03848a-d25f-46d5-d86d-5bc7a98ac2ff"
      },
      "execution_count": 51,
      "outputs": [
        {
          "output_type": "stream",
          "name": "stdout",
          "text": [
            "Rubens\n",
            "Larissa\n",
            "Dani\n",
            "Fubá\n"
          ]
        }
      ]
    }
  ]
}