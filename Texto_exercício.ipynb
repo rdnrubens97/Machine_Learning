{
  "nbformat": 4,
  "nbformat_minor": 0,
  "metadata": {
    "colab": {
      "name": "Texto exercício",
      "provenance": [],
      "authorship_tag": "ABX9TyNspbmAacJWac4iitY14T3F",
      "include_colab_link": true
    },
    "kernelspec": {
      "name": "python3",
      "display_name": "Python 3"
    },
    "language_info": {
      "name": "python"
    }
  },
  "cells": [
    {
      "cell_type": "markdown",
      "metadata": {
        "id": "view-in-github",
        "colab_type": "text"
      },
      "source": [
        "<a href=\"https://colab.research.google.com/github/rdnrubens97/Machine_Learning/blob/main/Texto_exerc%C3%ADcio.ipynb\" target=\"_parent\"><img src=\"https://colab.research.google.com/assets/colab-badge.svg\" alt=\"Open In Colab\"/></a>"
      ]
    },
    {
      "cell_type": "code",
      "execution_count": 2,
      "metadata": {
        "colab": {
          "base_uri": "https://localhost:8080/"
        },
        "id": "6IJ92-99n5fz",
        "outputId": "df7ec02e-8958-40d5-cf26-1aa0bc61da7d"
      },
      "outputs": [
        {
          "output_type": "execute_result",
          "data": {
            "text/plain": [
              "{'Dani': 9.5, 'Fubá': 8.5, 'Larissa': 10, 'Rubens': 8}"
            ]
          },
          "metadata": {},
          "execution_count": 2
        }
      ],
      "source": [
        "alunos = {\"Rubens\": 8, \"Larissa\": 10, \"Dani\":9.5, \"Fubá\": 8.5}\n",
        "alunos\n"
      ]
    },
    {
      "cell_type": "code",
      "source": [
        "#primeiro criamos o arquivo de texto com o dicionário contento nomes e notas.\n",
        "\n",
        "with open(\"alunos.txt\", \"w\") as dados:\n",
        "  for aluno, nota in alunos.items():\n",
        "    dados.write(f\"{aluno}, {nota}\\n\")"
      ],
      "metadata": {
        "id": "j-xsj2KKoVM3"
      },
      "execution_count": 3,
      "outputs": []
    },
    {
      "cell_type": "code",
      "source": [
        "#depois percorremos o arquivos de texto fazendo a leitura.\n",
        "\n",
        "with open(\"alunos.txt\", \"r\") as dados:\n",
        "  for linha in dados:\n",
        "    print(linha)"
      ],
      "metadata": {
        "colab": {
          "base_uri": "https://localhost:8080/"
        },
        "id": "-ftULGkGo4Gf",
        "outputId": "7bfaddc4-0e76-4c7e-b36a-b2cae90ef293"
      },
      "execution_count": 5,
      "outputs": [
        {
          "output_type": "stream",
          "name": "stdout",
          "text": [
            "Rubens, 8\n",
            "\n",
            "Larissa, 10\n",
            "\n",
            "Dani, 9.5\n",
            "\n",
            "Fubá, 8.5\n",
            "\n"
          ]
        }
      ]
    }
  ]
}