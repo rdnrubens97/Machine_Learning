{
  "nbformat": 4,
  "nbformat_minor": 0,
  "metadata": {
    "colab": {
      "name": "Tratemento de erros",
      "provenance": [],
      "authorship_tag": "ABX9TyNHrijze87iMPqDjzEuo/dU",
      "include_colab_link": true
    },
    "kernelspec": {
      "name": "python3",
      "display_name": "Python 3"
    },
    "language_info": {
      "name": "python"
    }
  },
  "cells": [
    {
      "cell_type": "markdown",
      "metadata": {
        "id": "view-in-github",
        "colab_type": "text"
      },
      "source": [
        "<a href=\"https://colab.research.google.com/github/rdnrubens97/Machine_Learning/blob/main/Tratemento_de_erros.ipynb\" target=\"_parent\"><img src=\"https://colab.research.google.com/assets/colab-badge.svg\" alt=\"Open In Colab\"/></a>"
      ]
    },
    {
      "cell_type": "code",
      "execution_count": 4,
      "metadata": {
        "colab": {
          "base_uri": "https://localhost:8080/"
        },
        "id": "znHmGcAz_Pch",
        "outputId": "8cc60fd6-35fe-4f0b-ca14-d0a9f9cc5802"
      },
      "outputs": [
        {
          "output_type": "stream",
          "name": "stdout",
          "text": [
            "Digite um número inteiro: 24\n",
            "O número digitado tem valor 24.\n"
          ]
        }
      ],
      "source": [
        "try:\n",
        "  n = int(input(\"Digite um número inteiro: \"))\n",
        "except:\n",
        "  print(\"O número digitado é inválido\")\n",
        "else:\n",
        "  print(f\"O número digitado tem valor {n}.\")\n",
        "  "
      ]
    },
    {
      "cell_type": "code",
      "source": [
        "# Utilizamos o \"while True\" para criarmos um loop infitinito que só será paralizado quando o valor digitado for aceito dentro do critério previamente definido.\n",
        "\n",
        "while True:\n",
        "  try:\n",
        "    n = int(input(\"Digite um número inteiro: \"))\n",
        "  except:\n",
        "    print(\"O número digitado é inválido\")\n",
        "  else:\n",
        "    print(f\"O número digitado tem valor {n}.\")\n",
        "    break\n",
        "  "
      ],
      "metadata": {
        "colab": {
          "base_uri": "https://localhost:8080/"
        },
        "id": "8gnjvte-AIsf",
        "outputId": "5209cc1f-8eb1-4791-97dd-1da4f508e75b"
      },
      "execution_count": 6,
      "outputs": [
        {
          "output_type": "stream",
          "name": "stdout",
          "text": [
            "Digite um número inteiro: 105471\n",
            "O número digitado tem valor 105471.\n"
          ]
        }
      ]
    },
    {
      "cell_type": "code",
      "source": [
        "while True:\n",
        "  try:\n",
        "    n = int(input(\"Digite o ano de seu nascimento: \"))\n",
        "  except ValueError:\n",
        "    print(\"O ano digitado é inválido.\")\n",
        "  except KeyboardInterrupt:\n",
        "    print(\"O usuário finalizou o processo.\")\n",
        "    break\n",
        "  else:\n",
        "    print(f\"Você nasceu em {n}.\")\n",
        "    break\n"
      ],
      "metadata": {
        "colab": {
          "base_uri": "https://localhost:8080/"
        },
        "id": "daVHuXDkA1YK",
        "outputId": "d9eba62a-44d2-451a-9c04-ece2af81881f"
      },
      "execution_count": 11,
      "outputs": [
        {
          "output_type": "stream",
          "name": "stdout",
          "text": [
            "Digite o ano de seu nascimento: 1997\n",
            "Você nasceu em 1997.\n"
          ]
        }
      ]
    }
  ]
}